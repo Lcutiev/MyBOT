{
 "cells": [
  {
   "cell_type": "code",
   "execution_count": 3,
   "metadata": {},
   "outputs": [],
   "source": [
    "import re\n",
    "\n",
    "question = input(\"Enter any string: \")\n",
    "\n",
    "regSign = re.search(r'\\d+$', question) \n",
    "\n",
    "if (regSign is not None) :\n",
    "    print(\"Exit number\")\n",
    "\n"
   ]
  },
  {
   "cell_type": "code",
   "execution_count": 1,
   "metadata": {},
   "outputs": [
    {
     "name": "stdout",
     "output_type": "stream",
     "text": [
      "12 18\n"
     ]
    }
   ],
   "source": [
    "a = 12\n",
    "\n",
    "b = 15\n",
    "\n",
    "c = 18\n",
    "\n",
    "if a%2==0:\n",
    "\n",
    "    if b%c == 1:\n",
    "\n",
    "        c-=5\n",
    "\n",
    "        b+=12\n",
    "\n",
    "    if c%a == 6:\n",
    "\n",
    "        b-=13\n",
    "\n",
    "    else:\n",
    "\n",
    "        a=b=c=0\n",
    "\n",
    "print(a,c)"
   ]
  },
  {
   "cell_type": "code",
   "execution_count": 13,
   "metadata": {},
   "outputs": [
    {
     "name": "stdout",
     "output_type": "stream",
     "text": [
      "Exit spechial char\n"
     ]
    }
   ],
   "source": [
    "question = input(\"Enter any string: \")\n",
    "\n",
    "\n",
    "if question.endswith(tuple(special_characters)):\n",
    "    print(\"Exit spechial char\")"
   ]
  },
  {
   "cell_type": "code",
   "execution_count": 25,
   "metadata": {},
   "outputs": [],
   "source": [
    "import re\n",
    "question = input(\"Enter any string: \")\n",
    "if (bool(re.search(r'\\b[a-zA-Z0-9._%+-]+@[a-zA-Z0-9.-]+\\.[a-zA-Z]{2,}\\b',question))):\n",
    "#if (bool(re.search('^[a-zA-Z0-9]*$',question))==True):\n",
    "    print(\"Exit between special char\")"
   ]
  },
  {
   "cell_type": "code",
   "execution_count": null,
   "metadata": {},
   "outputs": [],
   "source": [
    "# To be continued\n",
    "# elif(question.endswith(tuple(special_characters))):\n",
    "#     for i in special_characters:\n",
    "#         # Replace the special character with ?\n",
    "#         question=question.replace(i,\"?\")\n",
    "#         print(question,\"after replaching with question mark\")\n",
    "# elif((bool(re.search('^[a-zA-Z0-9]*$',question))==True)):\n",
    "#     # Remove Special Chars\n",
    "#     new_question = question\n",
    "#     new_question = re.sub('[^a-zA-Z0-9 \\n\\.]', '', new_question)\n",
    "#     print(question, \"after removal of special characters\")\n"
   ]
  },
  {
   "cell_type": "code",
   "execution_count": null,
   "metadata": {},
   "outputs": [],
   "source": [
    "# regexIgnoreSchar = re.escape('^(?!.*\\?).*')\n",
    "# print('The result of question with:', regexIgnoreSchar)"
   ]
  },
  {
   "cell_type": "code",
   "execution_count": 13,
   "metadata": {},
   "outputs": [
    {
     "name": "stdout",
     "output_type": "stream",
     "text": [
      "12 18\n"
     ]
    }
   ],
   "source": [
    "a = 12\n",
    "\n",
    "b = 15\n",
    "\n",
    "c = 18\n",
    "\n",
    "if a%2==0:\n",
    "\n",
    "    if b%c == 1:\n",
    "\n",
    "        c-=5\n",
    "\n",
    "        b+=12\n",
    "\n",
    "    if c%a == 6:\n",
    "\n",
    "        b-=13\n",
    "\n",
    "    else:\n",
    "\n",
    "        a=b=c=0\n",
    "\n",
    "print(a,c)"
   ]
  },
  {
   "cell_type": "code",
   "execution_count": 14,
   "metadata": {},
   "outputs": [
    {
     "name": "stdout",
     "output_type": "stream",
     "text": [
      "914a\n"
     ]
    }
   ],
   "source": [
    "i = 0\n",
    "\n",
    "j = 20\n",
    "\n",
    "while True:\n",
    "\n",
    "    j -= 2\n",
    "\n",
    "    i += 3\n",
    "\n",
    "    if i >= j:\n",
    "\n",
    "        break\n",
    "\n",
    "    if j > 15:\n",
    "\n",
    "        continue\n",
    "\n",
    "    print(i, j, sep=\"\", end=\"\")\n",
    "\n",
    "else:\n",
    "\n",
    "    print(j, end=\"\")\n",
    "\n",
    "print(\"a\")"
   ]
  },
  {
   "cell_type": "code",
   "execution_count": 15,
   "metadata": {},
   "outputs": [
    {
     "name": "stdout",
     "output_type": "stream",
     "text": [
      "10 3\n",
      "11 2\n",
      "12 11\n",
      "13 2\n"
     ]
    }
   ],
   "source": [
    "for num in range(10, 14):\n",
    "    \n",
    "   for i in range(2, num):\n",
    "\n",
    "       if num%i == 1:\n",
    "\n",
    "          print(num, i)\n",
    "\n",
    "          break"
   ]
  },
  {
   "cell_type": "code",
   "execution_count": 17,
   "metadata": {},
   "outputs": [
    {
     "name": "stdout",
     "output_type": "stream",
     "text": [
      "9 18 3\n"
     ]
    }
   ],
   "source": [
    "def cal(a, b=3):\n",
    "    \n",
    "    sum = a + b\n",
    "\n",
    "    sub = a - b\n",
    "\n",
    "    mul = a * b\n",
    "\n",
    "    return sum, sub, mul\n",
    "\n",
    "s, sub, mul = cal(6)\n",
    "\n",
    "print(s, mul, sub)"
   ]
  },
  {
   "cell_type": "code",
   "execution_count": 20,
   "metadata": {},
   "outputs": [
    {
     "name": "stdout",
     "output_type": "stream",
     "text": [
      "12\n",
      "14\n",
      "16\n",
      "18\n",
      "20\n"
     ]
    }
   ],
   "source": [
    "i = 0\n",
    "\n",
    "j = 10\n",
    "\n",
    "while i + j < 20:\n",
    "\n",
    "    i += 3\n",
    "\n",
    "    j -= 1\n",
    "    print(i+j)"
   ]
  }
 ],
 "metadata": {
  "kernelspec": {
   "display_name": "Python 3.9.7 ('base')",
   "language": "python",
   "name": "python3"
  },
  "language_info": {
   "codemirror_mode": {
    "name": "ipython",
    "version": 3
   },
   "file_extension": ".py",
   "mimetype": "text/x-python",
   "name": "python",
   "nbconvert_exporter": "python",
   "pygments_lexer": "ipython3",
   "version": "3.9.7"
  },
  "orig_nbformat": 4,
  "vscode": {
   "interpreter": {
    "hash": "deb4792152b8b9767403eeef0a1b0f34b83d442136ccee9184cd7d1131f09aa0"
   }
  }
 },
 "nbformat": 4,
 "nbformat_minor": 2
}
